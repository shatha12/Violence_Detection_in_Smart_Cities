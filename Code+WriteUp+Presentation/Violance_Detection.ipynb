{
 "cells": [
  {
   "cell_type": "code",
   "execution_count": null,
   "metadata": {
    "colab": {
     "base_uri": "https://localhost:8080/"
    },
    "id": "SuuLiJNH-oZg",
    "outputId": "0ca4567e-7819-4c0b-8209-c103d0e1def7"
   },
   "outputs": [],
   "source": [
    "from google.colab import drive\n",
    "drive.mount('/content/drive/')\n",
    "\n"
   ]
  },
  {
   "cell_type": "code",
   "execution_count": null,
   "metadata": {
    "id": "KCaf6XdWAglM"
   },
   "outputs": [],
   "source": [
    "import os\n",
    "import cv2\n",
    "import numpy as np\n",
    "np.random.seed(1337) \n",
    "import tensorflow\n",
    "from tensorflow import keras\n",
    "from tensorflow.keras import applications\n",
    "from tensorflow.keras.preprocessing.image import ImageDataGenerator\n",
    "from tensorflow.keras.optimizers import SGD\n",
    "from tensorflow.keras import Model, Sequential\n",
    "import tensorflow.keras.layers\n",
    "from tensorflow.keras.layers import Dropout, Dense, Flatten\n",
    "from tensorflow.keras.layers import ConvLSTM2D\n",
    "from sklearn.model_selection import train_test_split\n",
    "import tensorflow.keras.metrics as km\n",
    "from sklearn.metrics import classification_report\n",
    "from sklearn.metrics import accuracy_score\n",
    "from sklearn.metrics import precision_score\n",
    "from sklearn.metrics import recall_score\n",
    "from sklearn.metrics import f1_score\n",
    "from sklearn.metrics import cohen_kappa_score\n",
    "from sklearn.metrics import roc_auc_score\n",
    "from sklearn.model_selection import train_test_split\n",
    "from sklearn.preprocessing import MinMaxScaler\n",
    "\n",
    "\n",
    "\n",
    "import tensorflow as tf\n",
    "from tensorflow import keras\n",
    "from tensorflow.keras import models\n",
    "from tensorflow.keras import layers\n",
    "from tensorflow.keras.models import Model\n",
    "from tensorflow.keras import backend as K\n",
    "from tensorflow.keras.datasets import mnist\n",
    "from tensorflow.keras.utils import plot_model\n",
    "from tensorflow.keras.models import Sequential\n",
    "from tensorflow.keras.preprocessing import image\n",
    "from tensorflow.keras.applications.vgg16 import VGG16\n",
    "from tensorflow.keras.applications.vgg16 import preprocess_input\n",
    "from tensorflow.keras.applications import VGG16,VGG19,inception_v3\n",
    "from tensorflow.keras.preprocessing.image import ImageDataGenerator\n",
    "from tensorflow.keras.optimizers import RMSprop,Adam,Optimizer,Optimizer, SGD\n",
    "from tensorflow.keras.layers import Input, Lambda,Dense, Dropout, Flatten, Conv2D, MaxPool2D, BatchNormalization,MaxPooling2D,BatchNormalization,\\\n",
    "                                    Permute, TimeDistributed, Bidirectional,GRU, SimpleRNN,\\\n",
    "                                    LSTM, GlobalAveragePooling2D, SeparableConv2D, ZeroPadding2D, Convolution2D, ZeroPadding2D,Reshape,\\\n",
    "                                    Conv2DTranspose, LeakyReLU, Conv1D, AveragePooling1D, MaxPooling1D"
   ]
  },
  {
   "cell_type": "code",
   "execution_count": null,
   "metadata": {
    "id": "olaQbNfqAgsz"
   },
   "outputs": [],
   "source": [
    "data_dir = \"/content/drive/MyDrive/real_life_violence_situations/Real_Life_Violence_Dataset\"\n",
    "\n",
    "img_height , img_width = 90, 90\n",
    "seq_len = 40 #number of images we pass per video\n",
    " \n",
    "classes = [\"NonViolence\", \"Violence\"]"
   ]
  },
  {
   "cell_type": "code",
   "execution_count": null,
   "metadata": {
    "id": "jLt0ybsEAgvx"
   },
   "outputs": [],
   "source": [
    "#The below function takes the path of a single video and then extracts frames from that video.\n",
    "def frames_extraction(video_path):\n",
    "    frames_list = []\n",
    "     \n",
    "    vidObj = cv2.VideoCapture(video_path)\n",
    "    \n",
    "    count = 1\n",
    "    num = 0\n",
    "    num22=0\n",
    "    while count <= seq_len: \n",
    "        success, image = vidObj.read() \n",
    "        if success:\n",
    "            image = cv2.resize(image, (img_height, img_width))\n",
    "            frames_list.append(image)\n",
    "            count += 1\n",
    "        else:\n",
    "            num+=1\n",
    "            print(f\"{num} Deafected Frame\")\n",
    "            \n",
    "            break\n",
    " \n",
    "            \n",
    "    return frames_list"
   ]
  },
  {
   "cell_type": "code",
   "execution_count": null,
   "metadata": {
    "colab": {
     "base_uri": "https://localhost:8080/"
    },
    "id": "uBw3ua7WAgzU",
    "outputId": "59c6cdc9-4ceb-4d2e-e02d-c7d70363946e"
   },
   "outputs": [],
   "source": [
    "def create_data(input_dir):\n",
    "    X = []\n",
    "    Y = []\n",
    "     \n",
    "    classes_list = os.listdir(input_dir)\n",
    "     \n",
    "    for c in classes_list:\n",
    "        print(c)\n",
    "        files_list = os.listdir(os.path.join(input_dir, c))\n",
    "        for f in files_list[:600]:\n",
    "            frames = frames_extraction(os.path.join(os.path.join(input_dir, c), f))\n",
    "            if len(frames) == seq_len:\n",
    "                X.append(frames)\n",
    "             \n",
    "                y = [0]*len(classes)\n",
    "                y[classes.index(c)] = 1\n",
    "                Y.append(y)\n",
    "     \n",
    "    X = np.asarray(X)\n",
    "    Y = np.asarray(Y)\n",
    "    return X, Y\n",
    " \n",
    "X, Y = create_data(data_dir)"
   ]
  },
  {
   "cell_type": "code",
   "execution_count": null,
   "metadata": {
    "colab": {
     "base_uri": "https://localhost:8080/"
    },
    "id": "26VXQaUKBF8Q",
    "outputId": "892c5d00-fbd2-45bc-fadb-4a11518ee698"
   },
   "outputs": [],
   "source": [
    "print(np.shape(X))\n",
    "print(np.shape(Y))"
   ]
  },
  {
   "cell_type": "markdown",
   "metadata": {
    "id": "NihwrM35pLr8"
   },
   "source": [
    "### Baseline"
   ]
  },
  {
   "cell_type": "code",
   "execution_count": null,
   "metadata": {
    "colab": {
     "base_uri": "https://localhost:8080/"
    },
    "id": "4WVAr9TgBGI8",
    "outputId": "0b6f22c8-7733-43b9-e6b6-395920f68768"
   },
   "outputs": [],
   "source": [
    "X2 = np.reshape(X, (1199, 40*90*90*3))\n",
    "print(np.shape(X2))\n",
    "X2 = np.concatenate((X2,np.zeros((1199,1))), axis = 1)\n",
    "print(np.shape(X2))"
   ]
  },
  {
   "cell_type": "code",
   "execution_count": null,
   "metadata": {
    "id": "HMQDP51mBKFY"
   },
   "outputs": [],
   "source": [
    "X_train, X_test, y_train, y_test = train_test_split(X2, Y, test_size=0.2, shuffle=True, random_state=1)"
   ]
  },
  {
   "cell_type": "code",
   "execution_count": null,
   "metadata": {
    "colab": {
     "base_uri": "https://localhost:8080/"
    },
    "id": "xhIaU3ucBKIT",
    "outputId": "b936465d-a4f4-4841-9e3f-d6dcb259260e"
   },
   "outputs": [],
   "source": [
    "ff_model = keras.Sequential([\n",
    "    keras.layers.InputLayer(input_shape=X_train.shape[1:]),\n",
    "    keras.layers.Dense(units=5, activation=\"relu\"),\n",
    "    keras.layers.Dense(units=1),\n",
    "\n",
    "])\n",
    "opt = SGD(lr=0.001)\n",
    "ff_model.compile(loss='binary_crossentropy', optimizer=opt, metrics=[\"accuracy\"])\n",
    "ff_model.summary()"
   ]
  },
  {
   "cell_type": "code",
   "execution_count": null,
   "metadata": {
    "id": "wqqnhZHoBKLN"
   },
   "outputs": [],
   "source": [
    "hist = ff_model.fit(X_train, y_train ,batch_size=5, epochs=10)"
   ]
  },
  {
   "cell_type": "code",
   "execution_count": null,
   "metadata": {
    "id": "dxlRw37rBKSL"
   },
   "outputs": [],
   "source": [
    "y_pred = ff_model.predict(X_test)\n",
    "y_pred = np.argmax(y_pred, axis = 1)\n",
    "y_test = np.argmax(y_test, axis = 1)\n"
   ]
  },
  {
   "cell_type": "code",
   "execution_count": null,
   "metadata": {
    "id": "l3BbNDmxBKVb"
   },
   "outputs": [],
   "source": [
    "print(classification_report(y_test, y_pred))"
   ]
  },
  {
   "cell_type": "code",
   "execution_count": null,
   "metadata": {
    "id": "49nL7CRBBaj2"
   },
   "outputs": [],
   "source": [
    "from sklearn.metrics import confusion_matrix\n",
    "mypreds = ff_model.predict(X_test).argmax(axis=1)\n",
    "cm = confusion_matrix(y_test, mypreds)\n",
    "print(cm)"
   ]
  },
  {
   "cell_type": "code",
   "execution_count": null,
   "metadata": {
    "id": "W_FrkKRCBam9"
   },
   "outputs": [],
   "source": [
    "print(hist.history.keys())"
   ]
  },
  {
   "cell_type": "code",
   "execution_count": null,
   "metadata": {
    "id": "B6UuLs4-Bapi"
   },
   "outputs": [],
   "source": [
    "from matplotlib import pyplot as plt\n",
    "plt.plot(hist.history['loss'])\n",
    "plt.title('model loss')\n",
    "plt.ylabel('loss')\n",
    "plt.xlabel('epoch')\n",
    "plt.legend(['train', 'test'], loc='upper left')\n",
    "plt.show()\n"
   ]
  },
  {
   "cell_type": "code",
   "execution_count": null,
   "metadata": {
    "id": "UdcSaAJ-BarX"
   },
   "outputs": [],
   "source": [
    "plt.plot(hist.history['accuracy'])\n",
    "plt.title('model accuracy')\n",
    "plt.ylabel('accuracy')\n",
    "plt.xlabel('epoch')\n",
    "plt.legend(['train', 'test'], loc='upper left')\n",
    "plt.show()"
   ]
  },
  {
   "cell_type": "markdown",
   "metadata": {
    "id": "znvpRn6opRyA"
   },
   "source": [
    "## ConvLSTM2D "
   ]
  },
  {
   "cell_type": "markdown",
   "metadata": {},
   "source": [
    "### Experiment 1"
   ]
  },
  {
   "cell_type": "code",
   "execution_count": null,
   "metadata": {
    "id": "-uQZzsSyBatw"
   },
   "outputs": [],
   "source": [
    "X_train, X_test, y_train, y_test = train_test_split(X, Y, test_size=0.2, shuffle=True, random_state=1)\n"
   ]
  },
  {
   "cell_type": "code",
   "execution_count": null,
   "metadata": {
    "id": "KPpzvZ5RBoDY"
   },
   "outputs": [],
   "source": [
    "model = Sequential()\n",
    "model.add(ConvLSTM2D(filters = 72, kernel_size = (3, 3), return_sequences = False, data_format = \"channels_last\", input_shape = (seq_len, img_height, img_width, 3)))\n",
    "model.add(Dropout(0.2))\n",
    "model.add(Flatten())\n",
    "model.add(Dense(254, activation=\"relu\"))\n",
    "model.add(Dropout(0.3))\n",
    "model.add(Dense(2, activation = \"softmax\"))"
   ]
  },
  {
   "cell_type": "code",
   "execution_count": null,
   "metadata": {
    "colab": {
     "base_uri": "https://localhost:8080/"
    },
    "id": "iIQclkf5BoIS",
    "outputId": "187bad80-03b0-4993-b377-bef1df7c2fb4"
   },
   "outputs": [],
   "source": [
    "opt = SGD(lr=0.001)\n",
    "model.compile(loss='categorical_crossentropy', optimizer=opt, metrics=[\"accuracy\"])"
   ]
  },
  {
   "cell_type": "code",
   "execution_count": null,
   "metadata": {
    "id": "GRlU1BCgHato"
   },
   "outputs": [],
   "source": [
    "from keras.callbacks import ModelCheckpoint, EarlyStopping"
   ]
  },
  {
   "cell_type": "code",
   "execution_count": null,
   "metadata": {
    "id": "9_RP2VL3F33O"
   },
   "outputs": [],
   "source": [
    "\n",
    "earlystop = EarlyStopping(patience=7)\n",
    "callbacks = [earlystop]"
   ]
  },
  {
   "cell_type": "code",
   "execution_count": null,
   "metadata": {
    "colab": {
     "base_uri": "https://localhost:8080/"
    },
    "id": "zSz6YiKqeNmU",
    "outputId": "1c23afac-d80b-478a-fb9b-840d2b0a02a7"
   },
   "outputs": [],
   "source": [
    "model.summary()"
   ]
  },
  {
   "cell_type": "code",
   "execution_count": null,
   "metadata": {
    "colab": {
     "base_uri": "https://localhost:8080/"
    },
    "id": "J-z2rhQqBoLg",
    "outputId": "af15c25d-87fc-4bc4-ea18-a0171403f62d"
   },
   "outputs": [],
   "source": [
    "history = model.fit(x=X_train, y=y_train, epochs=25, batch_size = 6,shuffle = False, validation_split=0.2,callbacks=callbacks)\n"
   ]
  },
  {
   "cell_type": "code",
   "execution_count": null,
   "metadata": {
    "id": "bsGS-IGhF3PA"
   },
   "outputs": [],
   "source": []
  },
  {
   "cell_type": "code",
   "execution_count": null,
   "metadata": {
    "colab": {
     "base_uri": "https://localhost:8080/",
     "height": 166
    },
    "id": "jmZ4XKh8BoNI",
    "outputId": "540d1eaa-3f70-413b-9ff4-3797c6f62831"
   },
   "outputs": [],
   "source": [
    "model.save('./model1.h5')"
   ]
  },
  {
   "cell_type": "code",
   "execution_count": null,
   "metadata": {
    "colab": {
     "base_uri": "https://localhost:8080/",
     "height": 34
    },
    "id": "4QxL6NHKBoPI",
    "outputId": "b01c8df0-1e19-4754-fb13-e0c70bfd8d1f"
   },
   "outputs": [],
   "source": [
    "from IPython.display import FileLink\n",
    "FileLink(r'./model1.h5')"
   ]
  },
  {
   "cell_type": "code",
   "execution_count": null,
   "metadata": {
    "id": "kRyP5hdWCZJM"
   },
   "outputs": [],
   "source": [
    "y_pred = model.predict(X_test)\n",
    "y_pred = np.argmax(y_pred, axis = 1)\n",
    "y_test = np.argmax(y_test, axis = 1)"
   ]
  },
  {
   "cell_type": "code",
   "execution_count": null,
   "metadata": {
    "colab": {
     "base_uri": "https://localhost:8080/"
    },
    "id": "Cuou4zriCZL-",
    "outputId": "c6f112fb-6b27-4e5a-88ca-5bb008a93c9f"
   },
   "outputs": [],
   "source": [
    "print(classification_report(y_test, y_pred))"
   ]
  },
  {
   "cell_type": "code",
   "execution_count": null,
   "metadata": {
    "colab": {
     "base_uri": "https://localhost:8080/"
    },
    "id": "j_H5b4kgCZOT",
    "outputId": "c074b67a-c639-41f6-f71a-a06143bb66fc"
   },
   "outputs": [],
   "source": [
    "from sklearn.metrics import confusion_matrix\n",
    "mypreds = model.predict(X_test).argmax(axis=1)\n",
    "cm = confusion_matrix(y_test, mypreds)\n",
    "print(cm)"
   ]
  },
  {
   "cell_type": "code",
   "execution_count": null,
   "metadata": {
    "colab": {
     "base_uri": "https://localhost:8080/",
     "height": 295
    },
    "id": "Z0eFIES2CZQb",
    "outputId": "2b10c4ae-1a01-47a9-f916-6f3beab222fe"
   },
   "outputs": [],
   "source": [
    "from matplotlib import pyplot as plt\n",
    "plt.plot(history.history['loss'])\n",
    "plt.plot(history.history['val_loss']) \n",
    "plt.title('model loss')\n",
    "plt.ylabel('loss')\n",
    "plt.xlabel('epoch')\n",
    "plt.legend(['train', 'test'], loc='upper left')\n",
    "plt.show()\n"
   ]
  },
  {
   "cell_type": "code",
   "execution_count": null,
   "metadata": {
    "colab": {
     "base_uri": "https://localhost:8080/",
     "height": 295
    },
    "id": "UAk6Gx85vFjo",
    "outputId": "87160472-0baf-41b7-e85d-3b8b983177f3"
   },
   "outputs": [],
   "source": [
    "import matplotlib.pyplot as plt\n",
    "\n",
    "plt.plot(history.history['accuracy'])\n",
    "plt.plot(history.history['val_accuracy'])\n",
    "plt.title('model accuracy')\n",
    "plt.ylabel('accuracy')\n",
    "plt.xlabel('epoch')\n",
    "plt.legend(['train', 'test'], loc='upper left')\n",
    "plt.show()"
   ]
  },
  {
   "cell_type": "markdown",
   "metadata": {
    "id": "rfMgVC51JkLv"
   },
   "source": [
    "### Experiment 2 \n",
    "with 2 hidden layer\n",
    "Dropout(0.8)\n",
    "Dense 254 and 128"
   ]
  },
  {
   "cell_type": "code",
   "execution_count": null,
   "metadata": {
    "id": "RKHxfnRy-H3g"
   },
   "outputs": [],
   "source": [
    "model = Sequential()\n",
    "model.add(ConvLSTM2D(filters = 72, kernel_size = (3, 3), return_sequences = False, data_format = \"channels_last\", input_shape = (seq_len, img_height, img_width, 3)))\n",
    "model.add(Dropout(0.8))\n",
    "model.add(Flatten())\n",
    "model.add(Dense(254, activation=\"relu\"))\n",
    "model.add(Dropout(0.8))\n",
    "model.add(Dense(128, activation = \"softmax\"))"
   ]
  },
  {
   "cell_type": "code",
   "execution_count": null,
   "metadata": {
    "colab": {
     "base_uri": "https://localhost:8080/"
    },
    "id": "bp7sxRx4zCNy",
    "outputId": "d8aedeb8-d3f2-48c5-e90a-5fdbf98ca0ef"
   },
   "outputs": [],
   "source": [
    "opt = SGD(lr=0.001)\n",
    "model.compile(loss='categorical_crossentropy', optimizer=opt, metrics=[\"accuracy\"])"
   ]
  },
  {
   "cell_type": "code",
   "execution_count": null,
   "metadata": {
    "colab": {
     "base_uri": "https://localhost:8080/"
    },
    "id": "okYW32MwANTH",
    "outputId": "4ada91c9-7983-445a-a313-7967aea22f6f"
   },
   "outputs": [],
   "source": [
    " history3 = model.fit(X_train, y_train, epochs=25, batch_size = 5,shuffle = False, validation_split=0.2,callbacks=callbacks)\n"
   ]
  },
  {
   "cell_type": "markdown",
   "metadata": {
    "id": "jWCAkhnB346W"
   },
   "source": [
    "\n",
    "### Experiment 3 \n",
    "with Dropout(0.9)\n",
    "Dense 265 and 2\n"
   ]
  },
  {
   "cell_type": "code",
   "execution_count": null,
   "metadata": {
    "id": "QDG2hj7jK5jt"
   },
   "outputs": [],
   "source": [
    "model2 = Sequential()\n",
    "model2.add(ConvLSTM2D(filters = 72, kernel_size = (3, 3), return_sequences = False, data_format = \"channels_last\", input_shape = (seq_len, img_height, img_width, 3)))\n",
    "model2.add(Dropout(0.9))\n",
    "model2.add(Flatten())\n",
    "model2.add(Dense(265, activation=\"relu\"))\n",
    "model2.add(Dropout(0.9))\n",
    "model2.add(Dense(2, activation = \"softmax\"))\n"
   ]
  },
  {
   "cell_type": "code",
   "execution_count": null,
   "metadata": {
    "colab": {
     "base_uri": "https://localhost:8080/"
    },
    "id": "2AJF776jK5sK",
    "outputId": "b534705d-f206-43f7-f0e2-9458a328f22c"
   },
   "outputs": [],
   "source": [
    "opt = SGD(lr=0.001)\n",
    "model2.compile(loss='categorical_crossentropy', optimizer=opt, metrics=[\"accuracy\"])"
   ]
  },
  {
   "cell_type": "code",
   "execution_count": null,
   "metadata": {
    "colab": {
     "base_uri": "https://localhost:8080/"
    },
    "id": "8P2Td-EGK56H",
    "outputId": "bbeaa709-43a9-4915-81c5-80bc06abd153"
   },
   "outputs": [],
   "source": [
    " history6 = model2.fit(X_train, y_train, epochs=35, batch_size = 5,shuffle = False, validation_split=0.2,callbacks=callbacks)\n"
   ]
  },
  {
   "cell_type": "markdown",
   "metadata": {
    "id": "nPs6Bv-UaxhC"
   },
   "source": [
    "### Conv1D\n",
    "### Experiment 4\n"
   ]
  },
  {
   "cell_type": "code",
   "execution_count": null,
   "metadata": {
    "id": "Qi-GUT3K_x1Z"
   },
   "outputs": [],
   "source": [
    "from keras.layers import Input, Dense, LSTM, MaxPooling1D, Conv1D\n",
    "from keras.models import Model\n",
    "modell = Sequential()\n",
    "modell.add(Conv1D(filters=32,kernel_size=8 ,  input_shape = ( seq_len,img_height, img_width,3)))\n",
    "modell.add(Dropout(0.2))\n",
    "modell.add(Flatten())\n",
    "modell.add(Dense(32, activation=\"relu\"))\n",
    "modell.add(Dropout(0.3))\n",
    "modell.add(Dense(2, activation = \"softmax\")\n",
    ")\n"
   ]
  },
  {
   "cell_type": "code",
   "execution_count": null,
   "metadata": {
    "id": "ENbhPHMBVEBK"
   },
   "outputs": [],
   "source": [
    "modell.compile(loss='categorical_crossentropy', optimizer='adam',metrics=['accuracy'])"
   ]
  },
  {
   "cell_type": "code",
   "execution_count": null,
   "metadata": {
    "colab": {
     "base_uri": "https://localhost:8080/"
    },
    "id": "dBzQijfYY-wh",
    "outputId": "73101fc2-2b10-4984-f57a-c8319aa3d34b"
   },
   "outputs": [],
   "source": [
    "modell.summary()"
   ]
  },
  {
   "cell_type": "code",
   "execution_count": null,
   "metadata": {
    "colab": {
     "base_uri": "https://localhost:8080/"
    },
    "id": "GeBmVhi76AZb",
    "outputId": "ebb6b8bd-7eaf-4655-eb82-4ad0811e4f84"
   },
   "outputs": [],
   "source": [
    "history2 = modell.fit(X_train[0:50], y_train[0:50], epochs=25, batch_size = 5, validation_split=0.2)\n"
   ]
  },
  {
   "cell_type": "markdown",
   "metadata": {},
   "source": [
    "### Transfare Learning"
   ]
  },
  {
   "cell_type": "markdown",
   "metadata": {
    "id": "tqIN70qV-NSP"
   },
   "source": [
    "### InceptionV3"
   ]
  },
  {
   "cell_type": "code",
   "execution_count": null,
   "metadata": {
    "id": "UgcHcvLeBKsG"
   },
   "outputs": [],
   "source": [
    "from keras.applications.inception_v3 import InceptionV3\n",
    "import cv2\n",
    "import os\n",
    "import sys\n",
    "import glob\n",
    "from tqdm import tqdm\n",
    "import argparse"
   ]
  },
  {
   "cell_type": "code",
   "execution_count": null,
   "metadata": {
    "colab": {
     "base_uri": "https://localhost:8080/"
    },
    "id": "D7HrMtZzUQw4",
    "outputId": "dca90ddc-5b83-4bdd-ed72-7831db7b7d1a"
   },
   "outputs": [],
   "source": [
    "X2 = np.reshape(X, (1199, 40*90*90*3))\n",
    "print(np.shape(X2))\n",
    "X2 = np.concatenate((X2,np.zeros((1199,1))), axis = 1)\n",
    "print(np.shape(X2))"
   ]
  },
  {
   "cell_type": "code",
   "execution_count": null,
   "metadata": {
    "id": "D_yf5N3LUQzr"
   },
   "outputs": [],
   "source": [
    "X_train, X_test, y_train, y_test = train_test_split(X2, Y, test_size=0.2, shuffle=True, random_state=1)"
   ]
  },
  {
   "cell_type": "code",
   "execution_count": null,
   "metadata": {
    "id": "Ic0_lEcy94lh"
   },
   "outputs": [],
   "source": [
    " \n",
    "baseModel = InceptionV3(weights=\"imagenet\",include_top=False,input_shape=(img_height, img_width, 3))"
   ]
  },
  {
   "cell_type": "code",
   "execution_count": null,
   "metadata": {
    "id": "WHGa7jgo94oi"
   },
   "outputs": [],
   "source": [
    "from keras.layers.pooling import AveragePooling2D\n",
    "headModel = baseModel.output\n",
    "headModel = Flatten(name=\"flatten\")(headModel)\n",
    "headModel = Dense(256, activation=\"relu\")(headModel)\n",
    "headModel = Dropout(0.5)(headModel)\n",
    "headModel = Dense(len(classes), activation=\"softmax\")(headModel)\n"
   ]
  },
  {
   "cell_type": "code",
   "execution_count": null,
   "metadata": {
    "id": "z6L9nuxM94rQ"
   },
   "outputs": [],
   "source": [
    "\n",
    "model = Model(inputs=baseModel.input, outputs=headModel)"
   ]
  },
  {
   "cell_type": "code",
   "execution_count": null,
   "metadata": {
    "id": "q3fSvMbU9Cpe"
   },
   "outputs": [],
   "source": [
    "\n",
    "model.trainable = True"
   ]
  },
  {
   "cell_type": "code",
   "execution_count": null,
   "metadata": {
    "id": "pga0AAOLOiIM"
   },
   "outputs": [],
   "source": [
    "args = {\n",
    "    \"dataset\": \"data\",\n",
    "    \"model\": \"model/violence_model.h5\",\n",
    "    \"label-bin\": \"model/lb.pickle\",\n",
    "    \"epochs\": 10,\n",
    "    \"plot\": \"plot.png\"\n",
    "    \n",
    "}"
   ]
  },
  {
   "cell_type": "code",
   "execution_count": null,
   "metadata": {
    "colab": {
     "base_uri": "https://localhost:8080/"
    },
    "id": "U29Vqi2m9CsT",
    "outputId": "582f1374-e49c-44a6-c93a-51685c9b8cd0"
   },
   "outputs": [],
   "source": [
    " \n",
    "print('-'*100)\n",
    "print(\"[INFO] compiling model...\")\n",
    "print('-'*100)\n",
    "opt = SGD(lr=1e-4, momentum=0.9, decay=1e-4 / args[\"epochs\"])\n",
    "model.compile(loss=\"categorical_crossentropy\", optimizer=opt, metrics=[\"accuracy\"])\n",
    "print(model.summary())"
   ]
  },
  {
   "cell_type": "code",
   "execution_count": null,
   "metadata": {
    "id": "66G2ERQYPQQW"
   },
   "outputs": [],
   "source": [
    "\n",
    "trainAug = ImageDataGenerator(\n",
    "    rotation_range=30,\n",
    "    zoom_range=0.15,\n",
    "    width_shift_range=0.2,\n",
    "    height_shift_range=0.2,\n",
    "    shear_range=0.15,\n",
    "    horizontal_flip=True,\n",
    "    fill_mode=\"nearest\")"
   ]
  },
  {
   "cell_type": "code",
   "execution_count": null,
   "metadata": {
    "colab": {
     "base_uri": "https://localhost:8080/",
     "height": 451
    },
    "id": "cdl3fg_a9CvI",
    "outputId": "2614c734-0b69-42a3-b267-23f972069e34"
   },
   "outputs": [],
   "source": [
    "\n",
    "print('-'*50)\n",
    "print(\"[INFO] training head...\")\n",
    "print('-'*50)\n",
    "H = model.fit_generator(\n",
    "    trainAug.flow(X_train, y_train, batch_size=5),\n",
    "    steps_per_epoch=len(X_train) // 5,\n",
    "    validation_data=valAug.flow(testX, testY),\n",
    "    validation_steps=len(X_test) // 5,\n",
    "    epochs=args[\"epochs\"])"
   ]
  },
  {
   "cell_type": "code",
   "execution_count": null,
   "metadata": {
    "id": "TQJu7nPDMUqa"
   },
   "outputs": [],
   "source": [
    "\n",
    "print('-'*100)\n",
    "print(\"[INFO] plot the training loss and accuracy...\")\n",
    "print('-'*100)\n",
    "N = args[\"epochs\"]\n",
    "plt.style.use(\"ggplot\")\n",
    "plt.figure()\n",
    "plt.plot(np.arange(0, N), H.history[\"loss\"], label=\"train_loss\")\n",
    "plt.plot(np.arange(0, N), H.history[\"val_loss\"], label=\"val_loss\")\n",
    "plt.plot(np.arange(0, N), H.history[\"accuracy\"], label=\"train_accuracy\")\n",
    "plt.plot(np.arange(0, N), H.history[\"val_accuracy\"], label=\"val_accuracy\")\n",
    "plt.title(\"Training Loss and Accuracy on Dataset\")\n",
    "plt.xlabel(\"Epoch #\")\n",
    "plt.ylabel(\"Loss/Accuracy\")\n",
    "plt.legend(loc=\"lower left\")\n",
    "plt.savefig(args[\"plot\"])"
   ]
  },
  {
   "cell_type": "code",
   "execution_count": null,
   "metadata": {
    "id": "3voOOSxXMUte"
   },
   "outputs": [],
   "source": []
  },
  {
   "cell_type": "code",
   "execution_count": null,
   "metadata": {
    "id": "01QJPsxLMUxi"
   },
   "outputs": [],
   "source": []
  },
  {
   "cell_type": "markdown",
   "metadata": {
    "id": "R3BdPFXRrTJw"
   },
   "source": [
    "### VGG16"
   ]
  },
  {
   "cell_type": "code",
   "execution_count": null,
   "metadata": {
    "id": "KZ89jweE94tl"
   },
   "outputs": [],
   "source": [
    "### VGG16\n",
    "#It's a simple model which uses \n",
    "#VGG16 features (GloabAveragePooling) for each frame, and LSTM to classify the frame sequences."
   ]
  },
  {
   "cell_type": "code",
   "execution_count": null,
   "metadata": {
    "colab": {
     "base_uri": "https://localhost:8080/"
    },
    "id": "uBxraUfS94wT",
    "outputId": "5e8f02e1-5c26-456d-faac-dd39ba6ce4ea"
   },
   "outputs": [],
   "source": [
    "from tensorflow.keras.layers import *\n",
    "from tensorflow.keras.models import Model, Sequential\n",
    "from tensorflow.keras.optimizers import Adam\n",
    "import tensorflow as tf\n",
    "import numpy as np\n",
    "\n",
    "from tensorflow.keras.applications import VGG16\n",
    "conv_base = VGG16(weights='imagenet',\n",
    "                  include_top=False,\n",
    "                  input_shape=(90, 90, 3))\n",
    "\n",
    "IMG_SIZE=(90,90,3)\n",
    "num_class = 2\n",
    "\n",
    "def create_base():\n",
    "  conv_base = VGG16(weights='imagenet',\n",
    "                  include_top=False,\n",
    "                  input_shape=(90, 90, 3))\n",
    "  x = GlobalAveragePooling2D()(conv_base.output)\n",
    "  base_model = Model(conv_base.input, x)\n",
    "  return base_model\n",
    "\n",
    "conv_base = create_base()\n",
    "\n",
    "ip = Input(shape=(40,90,90,3))\n",
    "t_conv = TimeDistributed(conv_base)(ip) # vgg16 feature extractor\n",
    "\n",
    "t_lstm = LSTM(10, return_sequences=False)(t_conv)\n",
    "\n",
    "f_softmax = Dense(num_class, activation='softmax')(t_lstm)\n",
    "\n",
    "model = Model(ip, f_softmax)\n",
    "\n",
    "model.summary()"
   ]
  },
  {
   "cell_type": "code",
   "execution_count": null,
   "metadata": {
    "colab": {
     "base_uri": "https://localhost:8080/"
    },
    "id": "P29BO83D941A",
    "outputId": "f420c435-183e-4fc6-81d4-420d028a8374"
   },
   "outputs": [],
   "source": [
    "opt = SGD(lr=0.001)\n",
    "model.compile(loss='categorical_crossentropy', optimizer=opt, metrics=[\"accuracy\"])"
   ]
  },
  {
   "cell_type": "code",
   "execution_count": null,
   "metadata": {
    "id": "bVxDU1AJYSfx"
   },
   "outputs": [],
   "source": [
    "from keras.callbacks import ModelCheckpoint, EarlyStopping\n",
    "earlystop = EarlyStopping(patience=7)\n",
    "callbacks = [earlystop]"
   ]
  },
  {
   "cell_type": "code",
   "execution_count": null,
   "metadata": {
    "colab": {
     "base_uri": "https://localhost:8080/"
    },
    "id": "KgKXxrCd945E",
    "outputId": "d15693f6-243a-4c81-f415-d0df917a5b7d"
   },
   "outputs": [],
   "source": [
    " history3 = model.fit(X_train, y_train, epochs=25, batch_size = 5,shuffle = False, validation_split=0.2,callbacks=callbacks)\n"
   ]
  },
  {
   "cell_type": "markdown",
   "metadata": {},
   "source": [
    "### Experiment 5"
   ]
  },
  {
   "cell_type": "code",
   "execution_count": null,
   "metadata": {},
   "outputs": [],
   "source": [
    "model = Sequential()\n",
    "model.add(ConvLSTM2D(filters = 72, kernel_size = (3, 3), return_sequences = False, data_format = \"channels_last\", input_shape = (seq_len, img_height, img_width, 3)))\n",
    "model.add(Dropout(0.8))\n",
    "model.add(Flatten())\n",
    "model.add(Dense(254, activation=\"relu\"))\n",
    "model.add(Dropout(0.8))\n",
    "model.add(Dense(2, activation = \"softmax\"))"
   ]
  },
  {
   "cell_type": "code",
   "execution_count": null,
   "metadata": {},
   "outputs": [],
   "source": [
    "opt = SGD(lr=0.001)\n",
    "model.compile(loss='categorical_crossentropy', optimizer=opt, metrics=[\"accuracy\"])"
   ]
  },
  {
   "cell_type": "code",
   "execution_count": null,
   "metadata": {},
   "outputs": [],
   "source": [
    "history3 = model.fit(X_train[0:200], y_train[0:200], epochs=25, batch_size = 5,shuffle = False, validation_split=0.2,callbacks=callbacks)"
   ]
  },
  {
   "cell_type": "markdown",
   "metadata": {},
   "source": [
    "### Experiment 6"
   ]
  },
  {
   "cell_type": "code",
   "execution_count": null,
   "metadata": {},
   "outputs": [],
   "source": [
    "model1 = Sequential()\n",
    "model1.add(ConvLSTM2D(filters = 72, kernel_size = (3, 3), return_sequences = False, data_format = \"channels_last\", input_shape = (seq_len, img_height, img_width, 3)))\n",
    "model1.add(Dropout(0.8))\n",
    "model1.add(Flatten())\n",
    "model1.add(Dense(254, activation=\"relu\"))\n",
    "model1.add(Dropout(0.8))\n",
    "model1.add(Dense(2, activation = \"softmax\"))\n"
   ]
  },
  {
   "cell_type": "code",
   "execution_count": null,
   "metadata": {},
   "outputs": [],
   "source": [
    "opt = SGD(lr=0.001)\n",
    "model1.compile(loss='categorical_crossentropy', optimizer=opt, metrics=[\"accuracy\"])"
   ]
  },
  {
   "cell_type": "code",
   "execution_count": null,
   "metadata": {},
   "outputs": [],
   "source": [
    "history1 = model1.fit(X_train, y_train, epochs=35, batch_size = 5,shuffle = False, validation_split=0.2,callbacks=callbacks)"
   ]
  },
  {
   "cell_type": "markdown",
   "metadata": {},
   "source": [
    "### Experiment 7"
   ]
  },
  {
   "cell_type": "code",
   "execution_count": null,
   "metadata": {},
   "outputs": [],
   "source": [
    "model = Sequential()\n",
    "model.add(ConvLSTM2D(filters = 72, kernel_size = (3, 3), return_sequences = False, data_format = \"channels_last\", input_shape = (seq_len, img_height, img_width, 3)))\n",
    "model.add(Dropout(0.2))\n",
    "model.add(Flatten())\n",
    "model.add(Dense(254, activation=\"relu\"))\n",
    "model.add(Dropout(0.3))\n",
    "model.add(Dense(2, activation = \"softmax\"))"
   ]
  },
  {
   "cell_type": "code",
   "execution_count": null,
   "metadata": {},
   "outputs": [],
   "source": [
    "model.summary()"
   ]
  },
  {
   "cell_type": "code",
   "execution_count": null,
   "metadata": {},
   "outputs": [],
   "source": [
    "opt = SGD(lr=0.001)\n",
    "model.compile(loss='categorical_crossentropy', optimizer=opt, metrics=[\"accuracy\"])\n",
    "history = model.fit(x=X_train, y=y_train, epochs=25, batch_size = 5,shuffle = False, validation_split=0.2)\n"
   ]
  },
  {
   "cell_type": "code",
   "execution_count": null,
   "metadata": {},
   "outputs": [],
   "source": [
    "model.save('./model.h5')\n"
   ]
  },
  {
   "cell_type": "code",
   "execution_count": null,
   "metadata": {},
   "outputs": [],
   "source": [
    "from IPython.display import FileLink\n",
    "FileLink(r'./model.h5')"
   ]
  },
  {
   "cell_type": "code",
   "execution_count": null,
   "metadata": {},
   "outputs": [],
   "source": [
    "y_pred = model.predict(X_test)\n",
    "y_pred = np.argmax(y_pred, axis = 1)\n",
    "y_test = np.argmax(y_test, axis = 1)"
   ]
  },
  {
   "cell_type": "code",
   "execution_count": null,
   "metadata": {},
   "outputs": [],
   "source": [
    "print(classification_report(y_test, y_pred))\n"
   ]
  },
  {
   "cell_type": "code",
   "execution_count": null,
   "metadata": {},
   "outputs": [],
   "source": [
    "from sklearn.metrics import confusion_matrix\n",
    "mypreds = model.predict(X_test).argmax(axis=1)\n",
    "cm = confusion_matrix(y_test, mypreds)\n",
    "print(cm)"
   ]
  },
  {
   "cell_type": "code",
   "execution_count": null,
   "metadata": {},
   "outputs": [],
   "source": [
    "import matplotlib.pyplot as plt\n",
    "\n",
    "plt.plot(history.history['accuracy'])\n",
    "plt.plot(history.history['val_accuracy'])\n",
    "plt.title('model accuracy')\n",
    "plt.ylabel('accuracy')\n",
    "plt.xlabel('epoch')\n",
    "plt.legend(['train', 'test'], loc='upper left')\n",
    "plt.show()"
   ]
  },
  {
   "cell_type": "code",
   "execution_count": null,
   "metadata": {},
   "outputs": [],
   "source": [
    "plt.plot(history.history['loss'])\n",
    "plt.plot(history.history['val_loss']) \n",
    "plt.title('model loss')\n",
    "plt.ylabel('loss')\n",
    "plt.xlabel('epoch')\n",
    "plt.legend(['train', 'test'], loc='upper left')\n",
    "plt.show()"
   ]
  },
  {
   "cell_type": "markdown",
   "metadata": {},
   "source": [
    "### Method to Predict  if video is violant or not"
   ]
  },
  {
   "cell_type": "code",
   "execution_count": null,
   "metadata": {},
   "outputs": [],
   "source": [
    "from keras.models import load_model\n",
    "import cv2\n",
    "import numpy as np\n",
    "\n",
    "model = load_model('./model.h5')\n",
    "\n",
    "video_path = 'fight.mp4'\n",
    "category =['NonViolence', 'Violence']\n",
    "frames = []\n",
    "frame_count = 0\n",
    "queue=[]\n",
    "\n",
    "try:\n",
    "    capture = cv2.VideoCapture(video_path)\n",
    "    while (capture.isOpened()):\n",
    "        ret, frame = capture.read()\n",
    "          \n",
    "        frame = cv2.resize(frame, (90, 90))\n",
    "        if not ret:\n",
    "            break\n",
    "\n",
    "   \n",
    "        frame_count += 1\n",
    "        frames.append(frame)\n",
    "\n",
    "        if frame_count < 40:\n",
    "            continue \n",
    "        else:\n",
    "            frame_count = 0\n",
    "  \n",
    "        sequence = []\n",
    "        for image in frames:\n",
    "            sequence.append(image) \n",
    "\n",
    "        prediction = model.predict(np.expand_dims(sequence, axis=0))\n",
    "        print(prediction)\n",
    "        queue.append(prediction)\n",
    "        results = np.array(queue).mean(axis=0)\n",
    "        i = category[np.argmax(results)]\n",
    "except Exception as e:\n",
    "    print(str(e))\n",
    "print('Predicted: '+ i)\n",
    "capture.release()"
   ]
  },
  {
   "cell_type": "code",
   "execution_count": null,
   "metadata": {},
   "outputs": [],
   "source": [
    "from keras.models import load_model\n",
    "import cv2\n",
    "import numpy as np\n",
    "\n",
    "model = load_model('./model.h5')\n",
    "\n",
    "video_path = 'Greeting.mp4'\n",
    "category =['NonViolence', 'Violence']\n",
    "frames = []\n",
    "frame_count = 0\n",
    "queue=[]\n",
    "\n",
    "try:\n",
    "    capture = cv2.VideoCapture(video_path)\n",
    "    while (capture.isOpened()):\n",
    "        ret, frame = capture.read()\n",
    "          \n",
    "        frame = cv2.resize(frame, (90, 90))\n",
    "        if not ret:\n",
    "            break\n",
    "\n",
    "   \n",
    "        frame_count += 1\n",
    "        frames.append(frame)\n",
    "\n",
    "        if frame_count < 40:\n",
    "            continue \n",
    "        else:\n",
    "            frame_count = 0\n",
    "  \n",
    "        sequence = []\n",
    "        for image in frames:\n",
    "            sequence.append(image) \n",
    "\n",
    "        prediction = model.predict(np.expand_dims(sequence, axis=0))\n",
    "        print(prediction)\n",
    "        queue.append(prediction)\n",
    "        results = np.array(queue).mean(axis=0)\n",
    "        i = category[np.argmax(results)]\n",
    "except Exception as e:\n",
    "    print(str(e))\n",
    "print('Predicted: '+ i)\n",
    "capture.release()"
   ]
  }
 ],
 "metadata": {
  "accelerator": "GPU",
  "colab": {
   "collapsed_sections": [],
   "machine_shape": "hm",
   "name": "Violance_Detection.ipynb",
   "provenance": []
  },
  "kernelspec": {
   "display_name": "Python 3",
   "language": "python",
   "name": "python3"
  },
  "language_info": {
   "codemirror_mode": {
    "name": "ipython",
    "version": 3
   },
   "file_extension": ".py",
   "mimetype": "text/x-python",
   "name": "python",
   "nbconvert_exporter": "python",
   "pygments_lexer": "ipython3",
   "version": "3.8.8"
  }
 },
 "nbformat": 4,
 "nbformat_minor": 1
}
